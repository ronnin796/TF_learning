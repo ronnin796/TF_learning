{
 "cells": [
  {
   "cell_type": "markdown",
   "id": "df8c0a24",
   "metadata": {},
   "source": [
    "## Iris Flower classification\n"
   ]
  },
  {
   "cell_type": "code",
   "execution_count": 13,
   "id": "df135a20",
   "metadata": {},
   "outputs": [
    {
     "name": "stdout",
     "output_type": "stream",
     "text": [
      "2.19.0\n"
     ]
    }
   ],
   "source": [
    "from __future__ import absolute_import , division , print_function , unicode_literals\n",
    "\n",
    "import tensorflow as tf\n",
    "import pandas as pd\n",
    "\n",
    "# Check TensorFlow version\n",
    "print(tf.__version__)\n",
    "\n",
    "# Create a simple tensor\n",
    "# tensor = tf.constant([[1, 2], [3, 4]])\n",
    "# print(tensor)\n",
    "# tensor_reshape = tf.reshape(tensor,[4,1])\n",
    "# print(tensor_reshape)\n"
   ]
  },
  {
   "cell_type": "code",
   "execution_count": 14,
   "id": "d44c62d3",
   "metadata": {},
   "outputs": [],
   "source": [
    "CSV_COLUMN_NAMES = ['SepalLength' , 'SepalWidth' , 'PetalLength' , 'PetalWidth' , 'Species']\n",
    "SPECIES = ['Setosa'  , 'Versicolor' , 'Virginica']\n",
    "#Constants to help us later on"
   ]
  },
  {
   "cell_type": "code",
   "execution_count": 23,
   "id": "64a2fee5",
   "metadata": {},
   "outputs": [
    {
     "name": "stdout",
     "output_type": "stream",
     "text": [
      "Train columns: ['SepalLength', 'SepalWidth', 'PetalLength', 'PetalWidth', 'Species']\n",
      "Test columns: ['SepalLength', 'SepalWidth', 'PetalLength', 'PetalWidth', 'Species']\n"
     ]
    }
   ],
   "source": [
    "train_path = tf.keras.utils.get_file(\n",
    "    \"iris_training.csv\" , \"https://storage.googleapis.com/download.tensorflow.org/data/iris_training.csv\"\n",
    ")\n",
    "test_path = tf.keras.utils.get_file(\n",
    "    \"iris_test.csv\" , \"https://storage.googleapis.com/download.tensorflow.org/data/iris_test.csv\"\n",
    ")\n",
    "# Load the datasets into pandas DataFrames\n",
    "# Use header=0 to read the existing header, adjust if no header is present\n",
    "train = pd.read_csv(train_path ,names =CSV_COLUMN_NAMES, header =0)\n",
    "test = pd.read_csv(test_path ,names = CSV_COLUMN_NAMES, header = 0)\n",
    "# Verify column names\n",
    "print(\"Train columns:\", train.columns.tolist())\n",
    "print(\"Test columns:\", test.columns.tolist())"
   ]
  },
  {
   "cell_type": "code",
   "execution_count": 24,
   "id": "3e2286e4",
   "metadata": {},
   "outputs": [],
   "source": [
    "# Separate labels and convert to integer encoding if needed\n",
    "train_y = train.pop('Species')\n",
    "test_y = test.pop('Species')\n",
    "# Convert features to numpy array\n",
    "X_train = train.values\n",
    "X_test = test.values"
   ]
  },
  {
   "cell_type": "code",
   "execution_count": 25,
   "id": "3fb8d2b7",
   "metadata": {},
   "outputs": [],
   "source": [
    "# Normalize the data\n",
    "normalizer = tf.keras.layers.Normalization(axis=-1)\n",
    "normalizer.adapt(X_train)  # Compute mean and variance"
   ]
  },
  {
   "cell_type": "markdown",
   "id": "63af0bdf",
   "metadata": {},
   "source": [
    "## Tensor Flow data set"
   ]
  },
  {
   "cell_type": "code",
   "execution_count": 26,
   "id": "60a92b7a",
   "metadata": {},
   "outputs": [],
   "source": [
    "\n",
    "\n",
    "def create_dataset(features, labels, training=True, batch_size=256, num_epochs=None):\n",
    "    \"\"\"\n",
    "    Creates a TensorFlow Dataset from features and labels.\n",
    "    \n",
    "    Args:\n",
    "        features (dict): Dictionary of feature tensors or numpy arrays.\n",
    "        labels: Label tensor or numpy array.\n",
    "        training (bool): Whether to shuffle and repeat the dataset (default: True).\n",
    "        batch_size (int): Size of each batch (default: 256).\n",
    "        num_epochs (int, optional): Number of epochs to repeat the dataset (default: None, infinite if training).\n",
    "    \n",
    "    Returns:\n",
    "        tf.data.Dataset: A batched and optionally shuffled/repeated dataset.\n",
    "    \"\"\"\n",
    "    # Convert features dictionary and labels to a Dataset\n",
    "    dataset = tf.data.Dataset.from_tensor_slices((features, labels))\n",
    "    \n",
    "    # Shuffle and repeat if in training mode\n",
    "    if training:\n",
    "        dataset = dataset.shuffle(buffer_size=1000)  # Shuffle with a buffer of 1000 samples\n",
    "        if num_epochs is not None:\n",
    "            dataset = dataset.repeat(num_epochs)  # Repeat for specified epochs\n",
    "        else:\n",
    "            dataset = dataset.repeat()  # Infinite repeat if no epochs specified\n",
    "    \n",
    "    # Batch the dataset\n",
    "    dataset = dataset.batch(batch_size)\n",
    "    \n",
    "    # Prefetch to improve performance\n",
    "    dataset = dataset.prefetch(tf.data.AUTOTUNE)  # Allows background processing of data\n",
    "    \n",
    "    return dataset"
   ]
  },
  {
   "cell_type": "markdown",
   "id": "be28faf4",
   "metadata": {},
   "source": [
    "## Training and Testing Datasets"
   ]
  },
  {
   "cell_type": "code",
   "execution_count": 27,
   "id": "1e6d8642",
   "metadata": {},
   "outputs": [],
   "source": [
    "# Create datasets\n",
    "train_dataset = create_dataset(X_train, train_y, training=True, batch_size=32, num_epochs=10)\n",
    "test_dataset = create_dataset(X_test, test_y, training=False, batch_size=32, num_epochs=1)"
   ]
  },
  {
   "cell_type": "code",
   "execution_count": 28,
   "id": "b4227cc6",
   "metadata": {},
   "outputs": [],
   "source": [
    "# Build the Keras model for multiclass classification\n",
    "model = tf.keras.Sequential([\n",
    "    normalizer,  # Apply normalization layer\n",
    "    tf.keras.layers.Dense(16, activation='relu'),\n",
    "    tf.keras.layers.Dense(3, activation='softmax')  # 3 units for 3 classes\n",
    "])\n",
    "\n",
    "# Compile the model\n",
    "model.compile(optimizer='adam',\n",
    "              loss='sparse_categorical_crossentropy',  # For integer labels\n",
    "              metrics=['accuracy'])\n",
    "\n"
   ]
  },
  {
   "cell_type": "markdown",
   "id": "ee0ebaaa",
   "metadata": {},
   "source": [
    "## Training and Evaluation"
   ]
  },
  {
   "cell_type": "code",
   "execution_count": 35,
   "id": "f34d351f",
   "metadata": {},
   "outputs": [
    {
     "name": "stdout",
     "output_type": "stream",
     "text": [
      "Epoch 1/10\n",
      "\u001b[1m3/3\u001b[0m \u001b[32m━━━━━━━━━━━━━━━━━━━━\u001b[0m\u001b[37m\u001b[0m \u001b[1m0s\u001b[0m 2ms/step - accuracy: 0.7956 - loss: 0.5472\n",
      "Epoch 2/10\n",
      "\u001b[1m3/3\u001b[0m \u001b[32m━━━━━━━━━━━━━━━━━━━━\u001b[0m\u001b[37m\u001b[0m \u001b[1m0s\u001b[0m 3ms/step - accuracy: 0.8229 - loss: 0.5076\n",
      "Epoch 3/10\n",
      "\u001b[1m3/3\u001b[0m \u001b[32m━━━━━━━━━━━━━━━━━━━━\u001b[0m\u001b[37m\u001b[0m \u001b[1m0s\u001b[0m 2ms/step - accuracy: 0.8021 - loss: 0.5170\n",
      "Epoch 4/10\n",
      "\u001b[1m3/3\u001b[0m \u001b[32m━━━━━━━━━━━━━━━━━━━━\u001b[0m\u001b[37m\u001b[0m \u001b[1m0s\u001b[0m 3ms/step - accuracy: 0.7565 - loss: 0.5212\n",
      "Epoch 5/10\n",
      "\u001b[1m3/3\u001b[0m \u001b[32m━━━━━━━━━━━━━━━━━━━━\u001b[0m\u001b[37m\u001b[0m \u001b[1m0s\u001b[0m 2ms/step - accuracy: 0.7852 - loss: 0.5256\n",
      "Epoch 6/10\n",
      "\u001b[1m3/3\u001b[0m \u001b[32m━━━━━━━━━━━━━━━━━━━━\u001b[0m\u001b[37m\u001b[0m \u001b[1m0s\u001b[0m 3ms/step - accuracy: 0.7839 - loss: 0.5073   \n",
      "Epoch 7/10\n",
      "\u001b[1m3/3\u001b[0m \u001b[32m━━━━━━━━━━━━━━━━━━━━\u001b[0m\u001b[37m\u001b[0m \u001b[1m0s\u001b[0m 3ms/step - accuracy: 0.8203 - loss: 0.4768\n",
      "Epoch 8/10\n",
      "\u001b[1m3/3\u001b[0m \u001b[32m━━━━━━━━━━━━━━━━━━━━\u001b[0m\u001b[37m\u001b[0m \u001b[1m0s\u001b[0m 3ms/step - accuracy: 0.7513 - loss: 0.5244\n",
      "Epoch 9/10\n",
      "\u001b[1m3/3\u001b[0m \u001b[32m━━━━━━━━━━━━━━━━━━━━\u001b[0m\u001b[37m\u001b[0m \u001b[1m0s\u001b[0m 3ms/step - accuracy: 0.7995 - loss: 0.4879\n",
      "Epoch 10/10\n",
      "\u001b[1m3/3\u001b[0m \u001b[32m━━━━━━━━━━━━━━━━━━━━\u001b[0m\u001b[37m\u001b[0m \u001b[1m0s\u001b[0m 2ms/step - accuracy: 0.8190 - loss: 0.5073\n",
      "\u001b[1m1/1\u001b[0m \u001b[32m━━━━━━━━━━━━━━━━━━━━\u001b[0m\u001b[37m\u001b[0m \u001b[1m0s\u001b[0m 12ms/step - accuracy: 0.7000 - loss: 0.5995\n",
      "Test Loss: 0.5995, Test Accuracy: 0.7000\n"
     ]
    }
   ],
   "source": [
    "# Train the model\n",
    "model.fit(train_dataset, epochs=10, steps_per_epoch=len(X_train) // 32)\n",
    "\n",
    "# Evaluate the model\n",
    "test_loss, test_accuracy = model.evaluate(test_dataset, steps=len(X_test) // 32)\n",
    "print(f\"Test Loss: {test_loss:.4f}, Test Accuracy: {test_accuracy:.4f}\")"
   ]
  },
  {
   "cell_type": "markdown",
   "id": "01230571",
   "metadata": {},
   "source": [
    "## Predictions"
   ]
  },
  {
   "cell_type": "code",
   "execution_count": 36,
   "id": "120e3161",
   "metadata": {},
   "outputs": [
    {
     "name": "stdout",
     "output_type": "stream",
     "text": [
      "\u001b[1m1/1\u001b[0m \u001b[32m━━━━━━━━━━━━━━━━━━━━\u001b[0m\u001b[37m\u001b[0m \u001b[1m0s\u001b[0m 9ms/step\n",
      "Sample 1: Predicted = 2, Actual = 1\n",
      "Sample 2: Predicted = 2, Actual = 2\n",
      "Sample 3: Predicted = 0, Actual = 0\n",
      "Sample 4: Predicted = 2, Actual = 1\n",
      "Sample 5: Predicted = 1, Actual = 1\n",
      "Sample 6: Predicted = 2, Actual = 1\n",
      "Sample 7: Predicted = 0, Actual = 0\n",
      "Sample 8: Predicted = 2, Actual = 2\n",
      "Sample 9: Predicted = 2, Actual = 1\n",
      "Sample 10: Predicted = 2, Actual = 2\n"
     ]
    }
   ],
   "source": [
    "# Optional: Make predictions\n",
    "pred_probs = model.predict(test_dataset, steps=len(X_test) // 32)\n",
    "pred_classes = tf.argmax(pred_probs, axis=1).numpy()\n",
    "\n",
    "# Print some results\n",
    "for i in range(min(10, len(test_y))):\n",
    "    print(f\"Sample {i+1}: Predicted = {pred_classes[i]}, Actual = {test_y.iloc[i]}\")"
   ]
  }
 ],
 "metadata": {
  "kernelspec": {
   "display_name": "MLapps",
   "language": "python",
   "name": "python3"
  },
  "language_info": {
   "codemirror_mode": {
    "name": "ipython",
    "version": 3
   },
   "file_extension": ".py",
   "mimetype": "text/x-python",
   "name": "python",
   "nbconvert_exporter": "python",
   "pygments_lexer": "ipython3",
   "version": "3.10.16"
  }
 },
 "nbformat": 4,
 "nbformat_minor": 5
}
