{
 "cells": [
  {
   "cell_type": "markdown",
   "id": "df8c0a24",
   "metadata": {},
   "source": [
    "## Iris Flower classification\n"
   ]
  },
  {
   "cell_type": "code",
   "execution_count": null,
   "id": "df135a20",
   "metadata": {},
   "outputs": [
    {
     "name": "stderr",
     "output_type": "stream",
     "text": [
      "2025-06-14 21:54:38.457994: I external/local_xla/xla/tsl/cuda/cudart_stub.cc:32] Could not find cuda drivers on your machine, GPU will not be used.\n",
      "2025-06-14 21:54:38.558696: I external/local_xla/xla/tsl/cuda/cudart_stub.cc:32] Could not find cuda drivers on your machine, GPU will not be used.\n",
      "2025-06-14 21:54:38.648942: E external/local_xla/xla/stream_executor/cuda/cuda_fft.cc:467] Unable to register cuFFT factory: Attempting to register factory for plugin cuFFT when one has already been registered\n",
      "WARNING: All log messages before absl::InitializeLog() is called are written to STDERR\n",
      "E0000 00:00:1749917378.728527   19307 cuda_dnn.cc:8579] Unable to register cuDNN factory: Attempting to register factory for plugin cuDNN when one has already been registered\n",
      "E0000 00:00:1749917378.754912   19307 cuda_blas.cc:1407] Unable to register cuBLAS factory: Attempting to register factory for plugin cuBLAS when one has already been registered\n",
      "W0000 00:00:1749917378.934010   19307 computation_placer.cc:177] computation placer already registered. Please check linkage and avoid linking the same target more than once.\n",
      "W0000 00:00:1749917378.934035   19307 computation_placer.cc:177] computation placer already registered. Please check linkage and avoid linking the same target more than once.\n",
      "W0000 00:00:1749917378.934039   19307 computation_placer.cc:177] computation placer already registered. Please check linkage and avoid linking the same target more than once.\n",
      "W0000 00:00:1749917378.934042   19307 computation_placer.cc:177] computation placer already registered. Please check linkage and avoid linking the same target more than once.\n",
      "2025-06-14 21:54:38.953110: I tensorflow/core/platform/cpu_feature_guard.cc:210] This TensorFlow binary is optimized to use available CPU instructions in performance-critical operations.\n",
      "To enable the following instructions: AVX2 FMA, in other operations, rebuild TensorFlow with the appropriate compiler flags.\n"
     ]
    },
    {
     "name": "stdout",
     "output_type": "stream",
     "text": [
      "2.19.0\n"
     ]
    }
   ],
   "source": [
    "from __future__ import absolute_import , division , print_function , unicode_literals\n",
    "\n",
    "import tensorflow as tf\n",
    "import pandas as pd\n",
    "import numpy as np\n",
    "# Check TensorFlow version\n",
    "print(tf.__version__)\n",
    "\n",
    "# Create a simple tensor\n",
    "# tensor = tf.constant([[1, 2], [3, 4]])\n",
    "# print(tensor)\n",
    "# tensor_reshape = tf.reshape(tensor,[4,1])\n",
    "# print(tensor_reshape)\n"
   ]
  },
  {
   "cell_type": "code",
   "execution_count": 2,
   "id": "d44c62d3",
   "metadata": {},
   "outputs": [],
   "source": [
    "CSV_COLUMN_NAMES = ['SepalLength' , 'SepalWidth' , 'PetalLength' , 'PetalWidth' , 'Species']\n",
    "SPECIES = ['Setosa'  , 'Versicolor' , 'Virginica']\n",
    "#Constants to help us later on"
   ]
  },
  {
   "cell_type": "code",
   "execution_count": 3,
   "id": "64a2fee5",
   "metadata": {},
   "outputs": [
    {
     "name": "stdout",
     "output_type": "stream",
     "text": [
      "Train columns: ['SepalLength', 'SepalWidth', 'PetalLength', 'PetalWidth', 'Species']\n",
      "Test columns: ['SepalLength', 'SepalWidth', 'PetalLength', 'PetalWidth', 'Species']\n"
     ]
    }
   ],
   "source": [
    "train_path = tf.keras.utils.get_file(\n",
    "    \"iris_training.csv\" , \"https://storage.googleapis.com/download.tensorflow.org/data/iris_training.csv\"\n",
    ")\n",
    "test_path = tf.keras.utils.get_file(\n",
    "    \"iris_test.csv\" , \"https://storage.googleapis.com/download.tensorflow.org/data/iris_test.csv\"\n",
    ")\n",
    "# Load the datasets into pandas DataFrames\n",
    "# Use header=0 to read the existing header, adjust if no header is present\n",
    "train = pd.read_csv(train_path ,names =CSV_COLUMN_NAMES, header =0)\n",
    "test = pd.read_csv(test_path ,names = CSV_COLUMN_NAMES, header = 0)\n",
    "# Verify column names\n",
    "print(\"Train columns:\", train.columns.tolist())\n",
    "print(\"Test columns:\", test.columns.tolist())"
   ]
  },
  {
   "cell_type": "code",
   "execution_count": 4,
   "id": "3e2286e4",
   "metadata": {},
   "outputs": [],
   "source": [
    "# Separate labels and convert to integer encoding if needed\n",
    "train_y = train.pop('Species')\n",
    "test_y = test.pop('Species')\n",
    "# Convert features to numpy array\n",
    "X_train = train.values\n",
    "X_test = test.values"
   ]
  },
  {
   "cell_type": "code",
   "execution_count": 5,
   "id": "3fb8d2b7",
   "metadata": {},
   "outputs": [
    {
     "name": "stderr",
     "output_type": "stream",
     "text": [
      "E0000 00:00:1749917389.813368   19307 cuda_executor.cc:1228] INTERNAL: CUDA Runtime error: Failed call to cudaGetRuntimeVersion: Error loading CUDA libraries. GPU will not be used.: Error loading CUDA libraries. GPU will not be used.\n",
      "W0000 00:00:1749917389.816475   19307 gpu_device.cc:2341] Cannot dlopen some GPU libraries. Please make sure the missing libraries mentioned above are installed properly if you would like to use GPU. Follow the guide at https://www.tensorflow.org/install/gpu for how to download and setup the required libraries for your platform.\n",
      "Skipping registering GPU devices...\n"
     ]
    }
   ],
   "source": [
    "# Normalize the data\n",
    "normalizer = tf.keras.layers.Normalization(axis=-1)\n",
    "normalizer.adapt(X_train)  # Compute mean and variance"
   ]
  },
  {
   "cell_type": "markdown",
   "id": "63af0bdf",
   "metadata": {},
   "source": [
    "## Tensor Flow data set"
   ]
  },
  {
   "cell_type": "code",
   "execution_count": 6,
   "id": "60a92b7a",
   "metadata": {},
   "outputs": [],
   "source": [
    "\n",
    "\n",
    "def create_dataset(features, labels, training=True, batch_size=256, num_epochs=None):\n",
    "    \"\"\"\n",
    "    Creates a TensorFlow Dataset from features and labels.\n",
    "    \n",
    "    Args:\n",
    "        features (dict): Dictionary of feature tensors or numpy arrays.\n",
    "        labels: Label tensor or numpy array.\n",
    "        training (bool): Whether to shuffle and repeat the dataset (default: True).\n",
    "        batch_size (int): Size of each batch (default: 256).\n",
    "        num_epochs (int, optional): Number of epochs to repeat the dataset (default: None, infinite if training).\n",
    "    \n",
    "    Returns:\n",
    "        tf.data.Dataset: A batched and optionally shuffled/repeated dataset.\n",
    "    \"\"\"\n",
    "    # Convert features dictionary and labels to a Dataset\n",
    "    dataset = tf.data.Dataset.from_tensor_slices((features, labels))\n",
    "    \n",
    "    # Shuffle and repeat if in training mode\n",
    "    if training:\n",
    "        dataset = dataset.shuffle(buffer_size=1000)  # Shuffle with a buffer of 1000 samples\n",
    "        if num_epochs is not None:\n",
    "            dataset = dataset.repeat(num_epochs)  # Repeat for specified epochs\n",
    "        else:\n",
    "            dataset = dataset.repeat()  # Infinite repeat if no epochs specified\n",
    "    \n",
    "    # Batch the dataset\n",
    "    dataset = dataset.batch(batch_size)\n",
    "    \n",
    "    # Prefetch to improve performance\n",
    "    dataset = dataset.prefetch(tf.data.AUTOTUNE)  # Allows background processing of data\n",
    "    \n",
    "    return dataset"
   ]
  },
  {
   "cell_type": "markdown",
   "id": "be28faf4",
   "metadata": {},
   "source": [
    "## Training and Testing Datasets"
   ]
  },
  {
   "cell_type": "code",
   "execution_count": 7,
   "id": "1e6d8642",
   "metadata": {},
   "outputs": [],
   "source": [
    "# Create datasets\n",
    "train_dataset = create_dataset(X_train, train_y, training=True, batch_size=32, num_epochs=10)\n",
    "test_dataset = create_dataset(X_test, test_y, training=False, batch_size=32, num_epochs=1)"
   ]
  },
  {
   "cell_type": "code",
   "execution_count": 8,
   "id": "b4227cc6",
   "metadata": {},
   "outputs": [],
   "source": [
    "# Build the Keras model for multiclass classification\n",
    "model = tf.keras.Sequential([\n",
    "    normalizer,  # Apply normalization layer\n",
    "    tf.keras.layers.Dense(16, activation='relu'),\n",
    "    tf.keras.layers.Dense(3, activation='softmax')  # 3 units for 3 classes\n",
    "])\n",
    "\n",
    "# Compile the model\n",
    "model.compile(optimizer='adam',\n",
    "              loss='sparse_categorical_crossentropy',  # For integer labels\n",
    "              metrics=['accuracy'])\n",
    "\n"
   ]
  },
  {
   "cell_type": "markdown",
   "id": "ee0ebaaa",
   "metadata": {},
   "source": [
    "## Training and Evaluation"
   ]
  },
  {
   "cell_type": "code",
   "execution_count": 36,
   "id": "f34d351f",
   "metadata": {},
   "outputs": [
    {
     "name": "stdout",
     "output_type": "stream",
     "text": [
      "Epoch 1/10\n",
      "\u001b[1m3/3\u001b[0m \u001b[32m━━━━━━━━━━━━━━━━━━━━\u001b[0m\u001b[37m\u001b[0m \u001b[1m0s\u001b[0m 4ms/step - accuracy: 0.9466 - loss: 0.1644\n",
      "Epoch 2/10\n",
      "\u001b[1m3/3\u001b[0m \u001b[32m━━━━━━━━━━━━━━━━━━━━\u001b[0m\u001b[37m\u001b[0m \u001b[1m0s\u001b[0m 2ms/step - accuracy: 0.9818 - loss: 0.1589\n",
      "Epoch 3/10\n",
      "\u001b[1m3/3\u001b[0m \u001b[32m━━━━━━━━━━━━━━━━━━━━\u001b[0m\u001b[37m\u001b[0m \u001b[1m0s\u001b[0m 3ms/step - accuracy: 0.9466 - loss: 0.1448\n",
      "Epoch 4/10\n",
      "\u001b[1m3/3\u001b[0m \u001b[32m━━━━━━━━━━━━━━━━━━━━\u001b[0m\u001b[37m\u001b[0m \u001b[1m0s\u001b[0m 5ms/step - accuracy: 0.9648 - loss: 0.1430\n",
      "Epoch 5/10\n",
      "\u001b[1m3/3\u001b[0m \u001b[32m━━━━━━━━━━━━━━━━━━━━\u001b[0m\u001b[37m\u001b[0m \u001b[1m0s\u001b[0m 3ms/step - accuracy: 0.9427 - loss: 0.1561\n",
      "Epoch 6/10\n",
      "\u001b[1m3/3\u001b[0m \u001b[32m━━━━━━━━━━━━━━━━━━━━\u001b[0m\u001b[37m\u001b[0m \u001b[1m0s\u001b[0m 3ms/step - accuracy: 0.9505 - loss: 0.1467\n",
      "Epoch 7/10\n",
      "\u001b[1m3/3\u001b[0m \u001b[32m━━━━━━━━━━━━━━━━━━━━\u001b[0m\u001b[37m\u001b[0m \u001b[1m0s\u001b[0m 3ms/step - accuracy: 0.9805 - loss: 0.1249\n",
      "Epoch 8/10\n",
      "\u001b[1m3/3\u001b[0m \u001b[32m━━━━━━━━━━━━━━━━━━━━\u001b[0m\u001b[37m\u001b[0m \u001b[1m0s\u001b[0m 2ms/step - accuracy: 0.9766 - loss: 0.1387\n",
      "Epoch 9/10\n",
      "\u001b[1m3/3\u001b[0m \u001b[32m━━━━━━━━━━━━━━━━━━━━\u001b[0m\u001b[37m\u001b[0m \u001b[1m0s\u001b[0m 2ms/step - accuracy: 0.9388 - loss: 0.1465\n",
      "Epoch 10/10\n",
      "\u001b[1m3/3\u001b[0m \u001b[32m━━━━━━━━━━━━━━━━━━━━\u001b[0m\u001b[37m\u001b[0m \u001b[1m0s\u001b[0m 2ms/step - accuracy: 0.9557 - loss: 0.1575\n",
      "\u001b[1m1/1\u001b[0m \u001b[32m━━━━━━━━━━━━━━━━━━━━\u001b[0m\u001b[37m\u001b[0m \u001b[1m0s\u001b[0m 7ms/step - accuracy: 1.0000 - loss: 0.1669\n",
      "Test Loss: 0.1669, Test Accuracy: 1.0000\n"
     ]
    }
   ],
   "source": [
    "# Train the model\n",
    "model.fit(train_dataset, epochs=10, steps_per_epoch=len(X_train) // 32)\n",
    "\n",
    "# Evaluate the model\n",
    "test_loss, test_accuracy = model.evaluate(test_dataset, steps=len(X_test) // 32)\n",
    "print(f\"Test Loss: {test_loss:.4f}, Test Accuracy: {test_accuracy:.4f}\")"
   ]
  },
  {
   "cell_type": "markdown",
   "id": "01230571",
   "metadata": {},
   "source": [
    "## Predictions"
   ]
  },
  {
   "cell_type": "code",
   "execution_count": null,
   "id": "120e3161",
   "metadata": {},
   "outputs": [
    {
     "name": "stdout",
     "output_type": "stream",
     "text": [
      "\u001b[1m1/1\u001b[0m \u001b[32m━━━━━━━━━━━━━━━━━━━━\u001b[0m\u001b[37m\u001b[0m \u001b[1m0s\u001b[0m 32ms/step\n",
      "Sample 1: Predicted = 1, Actual = 1\n",
      "Sample 2: Predicted = 2, Actual = 2\n",
      "Sample 3: Predicted = 0, Actual = 0\n",
      "Sample 4: Predicted = 1, Actual = 1\n",
      "Sample 5: Predicted = 1, Actual = 1\n",
      "Sample 6: Predicted = 1, Actual = 1\n",
      "Sample 7: Predicted = 0, Actual = 0\n",
      "Sample 8: Predicted = 2, Actual = 2\n",
      "Sample 9: Predicted = 1, Actual = 1\n",
      "Sample 10: Predicted = 2, Actual = 2\n"
     ]
    }
   ],
   "source": [
    "# Optional: Make predictions\n",
    "pred_probs = model.predict(test_dataset, steps=len(X_test) // 32)\n",
    "pred_classes = tf.argmax(pred_probs, axis=1).numpy()\n",
    "\n",
    "\n",
    "#Using User Input to display Predictions\n",
    "def user_input_prediction(user_input):\n",
    "    user_input_array = np.array([user_input])\n",
    "    user_input_normalized = normalizer(user_input_array)\n",
    "    predictions = model.predict(user_input_normalized)\n",
    "    predicted_class = tf.argmax(predictions, axis=1).numpy()[0]\n",
    "    class_names = ['Setosa', 'Versicolor', 'Virginica']\n",
    "    print(f\"Predicted class: {class_names[predicted_class]}\")\n",
    "\n",
    "user_input = [\n",
    "    float(input(\"Sepal length: \")),\n",
    "    float(input(\"Sepal width: \")),\n",
    "    float(input(\"Petal length: \")),\n",
    "    float(input(\"Petal width: \"))\n",
    "]\n",
    "user_input_prediction(user_input)\n",
    "\n",
    "# Print some results\n",
    "for i in range(min(10, len(test_y))):\n",
    "    print(f\"Sample {i+1}: Predicted = {pred_classes[i]}, Actual = {test_y.iloc[i]}\")"
   ]
  }
 ],
 "metadata": {
  "kernelspec": {
   "display_name": "MLapps",
   "language": "python",
   "name": "python3"
  },
  "language_info": {
   "codemirror_mode": {
    "name": "ipython",
    "version": 3
   },
   "file_extension": ".py",
   "mimetype": "text/x-python",
   "name": "python",
   "nbconvert_exporter": "python",
   "pygments_lexer": "ipython3",
   "version": "3.11.13"
  }
 },
 "nbformat": 4,
 "nbformat_minor": 5
}
